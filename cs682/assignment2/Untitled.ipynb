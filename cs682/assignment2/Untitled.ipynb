{
 "cells": [
  {
   "cell_type": "code",
   "execution_count": 1,
   "metadata": {
    "scrolled": true
   },
   "outputs": [
    {
     "name": "stdout",
     "output_type": "stream",
     "text": [
      "[{'a': 0}, {'a': 1}, {'a': 2}, {'a': 3}, {'a': 4}]\n",
      "aaaaaaa\n",
      "[[52]\n",
      " [84]]\n",
      "[52 84]\n",
      "bbbbbbbb\n",
      "(1, 1, 1)\n",
      "[[[ 6  8]\n",
      "  [10 12]]\n",
      "\n",
      " [[22 24]\n",
      "  [26 28]]] \n",
      "kjkj\n",
      " [ 6  8 10 12 22 24 26 28]\n",
      "[[[[ 1  2]\n",
      "   [ 3  4]]\n",
      "\n",
      "  [[ 9 10]\n",
      "   [11 12]]]\n",
      "\n",
      "\n",
      " [[[ 5  6]\n",
      "   [ 7  8]]\n",
      "\n",
      "  [[13 14]\n",
      "   [15 16]]]]\n"
     ]
    },
    {
     "ename": "NameError",
     "evalue": "name 'c' is not defined",
     "output_type": "error",
     "traceback": [
      "\u001b[0;31m---------------------------------------------------------------------------\u001b[0m",
      "\u001b[0;31mNameError\u001b[0m                                 Traceback (most recent call last)",
      "\u001b[0;32m<ipython-input-1-7432ff2033bb>\u001b[0m in \u001b[0;36m<module>\u001b[0;34m\u001b[0m\n\u001b[1;32m     16\u001b[0m \u001b[0mb\u001b[0m\u001b[0;34m=\u001b[0m\u001b[0mnp\u001b[0m\u001b[0;34m.\u001b[0m\u001b[0marray\u001b[0m\u001b[0;34m(\u001b[0m\u001b[0;34m[\u001b[0m\u001b[0;34m[\u001b[0m\u001b[0;36m1\u001b[0m\u001b[0;34m,\u001b[0m\u001b[0;36m2\u001b[0m\u001b[0;34m]\u001b[0m\u001b[0;34m,\u001b[0m\u001b[0;34m[\u001b[0m\u001b[0;36m3\u001b[0m\u001b[0;34m,\u001b[0m\u001b[0;36m4\u001b[0m\u001b[0;34m]\u001b[0m\u001b[0;34m]\u001b[0m\u001b[0;34m)\u001b[0m\u001b[0;34m\u001b[0m\u001b[0;34m\u001b[0m\u001b[0m\n\u001b[1;32m     17\u001b[0m \u001b[0mprint\u001b[0m\u001b[0;34m(\u001b[0m\u001b[0ma\u001b[0m\u001b[0;34m.\u001b[0m\u001b[0mtranspose\u001b[0m\u001b[0;34m(\u001b[0m\u001b[0;36m1\u001b[0m\u001b[0;34m,\u001b[0m\u001b[0;36m0\u001b[0m\u001b[0;34m,\u001b[0m\u001b[0;36m2\u001b[0m\u001b[0;34m,\u001b[0m\u001b[0;36m3\u001b[0m\u001b[0;34m)\u001b[0m\u001b[0;34m)\u001b[0m\u001b[0;34m\u001b[0m\u001b[0;34m\u001b[0m\u001b[0m\n\u001b[0;32m---> 18\u001b[0;31m \u001b[0mprint\u001b[0m\u001b[0;34m(\u001b[0m\u001b[0mb\u001b[0m\u001b[0;34m*\u001b[0m\u001b[0mc\u001b[0m\u001b[0;34m)\u001b[0m\u001b[0;34m\u001b[0m\u001b[0;34m\u001b[0m\u001b[0m\n\u001b[0m\u001b[1;32m     19\u001b[0m \u001b[0mprint\u001b[0m\u001b[0;34m(\u001b[0m\u001b[0;34m(\u001b[0m\u001b[0;36m1\u001b[0m\u001b[0;34m,\u001b[0m\u001b[0;36m2\u001b[0m\u001b[0;34m)\u001b[0m\u001b[0;34m+\u001b[0m\u001b[0;34m(\u001b[0m\u001b[0;36m3\u001b[0m\u001b[0;34m,\u001b[0m\u001b[0;36m4\u001b[0m\u001b[0;34m)\u001b[0m\u001b[0;34m)\u001b[0m\u001b[0;34m\u001b[0m\u001b[0;34m\u001b[0m\u001b[0m\n",
      "\u001b[0;31mNameError\u001b[0m: name 'c' is not defined"
     ]
    }
   ],
   "source": [
    "import numpy as np\n",
    "cache={\"a\":1}\n",
    "caches_arr=[]\n",
    "for i in range(5):\n",
    "    cache={\"a\":i}\n",
    "    caches_arr.append(cache)\n",
    "print(caches_arr)\n",
    "a=np.array([[[[1,2],[3,4]],[[5,6],[7,8]]],[[[9,10],[11,12]],[[13,14],[15,16]]]])\n",
    "atr = np.reshape(np.transpose(a,(0,2,3,1)),(2*2*2,2))\n",
    "print(\"aaaaaaa\")\n",
    "print(np.sum(atr,axis=0,keepdims=True).T)\n",
    "print(np.sum(a,axis=(0,2,3)))\n",
    "print(\"bbbbbbbb\")\n",
    "print(np.array([[[12]]]).shape)\n",
    "print(np.sum(a,axis=1),\"\\nkjkj\\n\",np.sum(atr,axis=1))\n",
    "b=np.array([[1,2],[3,4]])\n",
    "print(a.transpose(1,0,2,3))\n",
    "print(b*c)\n",
    "print((1,2)+(3,4))\n"
   ]
  },
  {
   "cell_type": "code",
   "execution_count": 11,
   "metadata": {
    "scrolled": true
   },
   "outputs": [
    {
     "name": "stdout",
     "output_type": "stream",
     "text": [
      "(2, 2, 2, 2)\n"
     ]
    },
    {
     "data": {
      "text/plain": [
       "'\\ndana=np.ones_like(a)\\nf = lambda xx: xx\\ndanum=eval_numerical_gradient_array(f,a,1)\\nprint(eval_numerical_gradient_array(f,np.array([[1,2],[3,4]],dtype=float),1))\\nprint(5 * np.random.randn(2,2,2,2) + 12)\\nprint(danum,\"\\n\")\\nprint(dana,\"\\n\")\\n'"
      ]
     },
     "execution_count": 11,
     "metadata": {},
     "output_type": "execute_result"
    }
   ],
   "source": [
    "import numpy as np\n",
    "from cs682.gradient_check import eval_numerical_gradient_array\n",
    "a=np.array([[[[1,2],[3,4]],[[5,6],[7,8]]],[[[9,10],[11,12]],[[13,14],[15,16]]]],dtype=float)\n",
    "print(a.shape)\n",
    "'''\n",
    "dana=np.ones_like(a)\n",
    "f = lambda xx: xx\n",
    "danum=eval_numerical_gradient_array(f,a,1)\n",
    "print(eval_numerical_gradient_array(f,np.array([[1,2],[3,4]],dtype=float),1))\n",
    "print(5 * np.random.randn(2,2,2,2) + 12)\n",
    "print(danum,\"\\n\")\n",
    "print(dana,\"\\n\")\n",
    "'''"
   ]
  },
  {
   "cell_type": "code",
   "execution_count": null,
   "metadata": {
    "scrolled": false
   },
   "outputs": [],
   "source": [
    "import numpy as np\n",
    "from cs682.gradient_check import eval_numerical_gradient_array\n",
    "\n",
    "\n",
    "\n",
    "def gbx(x,eps):\n",
    "    return (np.mean(x, axis=0))/np.sqrt(np.var(x,axis=0)+eps)\n",
    "\n",
    "def dgbx(x,eps):\n",
    "    n = x.shape[0]\n",
    "    mu = np.mean(x, axis=0)\n",
    "    sqrtvarf = np.sqrt(np.var(x,axis=0)+eps)\n",
    "    a = x - np.mean(x, axis=0)\n",
    "    return (1/(n*sqrtvarf))-(mu*dfvarf(x,eps))/(sqrtvarf**2)\n",
    "\n",
    "\n",
    "def gx(x,eps):\n",
    "    return (x - np.mean(x, axis=0))/np.sqrt(np.var(x,axis=0)+eps)\n",
    "\n",
    "def dgx(x,eps):\n",
    "    return dgax(x,eps) - dgbx(x,eps)\n",
    "    n = x.shape[0]\n",
    "    mu = np.mean(x, axis=0)\n",
    "    a = x - np.mean(x, axis=0)\n",
    "    varf = np.sqrt(np.var(x,axis=0)+eps)\n",
    "    xc = a/varff\n",
    "    return (1/(varf*n))(1-((mu*xc)/varf))\n",
    "    return xc/n\n",
    "\n",
    "def jx(x):\n",
    "    return 1/x\n",
    "\n",
    "def djx(x):\n",
    "    return -1/x**2\n",
    "\n",
    "import numpy as np\n",
    "from cs682.gradient_check import eval_numerical_gradient_array\n",
    "\n",
    "\n",
    "def fvarf(x,eps):\n",
    "    return np.var(x,axis=0)+eps#np.sum((x-mu)**2,axis=0)/n\n",
    "\n",
    "def fvarf_sqrt(x,eps):\n",
    "    return np.sqrt(fvarf(x,eps))\n",
    "\n",
    "def dfvarf(x,eps):\n",
    "    n = x.shape[0]\n",
    "    mu = np.mean(x, axis=0)\n",
    "    #sqrtvarf = np.sqrt(np.var(x,axis=0)+eps)\n",
    "    return (2*(x-mu)/n)#/(fvarf(x,eps)**2)\n",
    "\n",
    "def fvarf_sqrt(x,eps):\n",
    "    return np.sqrt(fvarf(x,eps))\n",
    "\n",
    "def dfvarf_sqrt(x,eps):\n",
    "    n=x.shape[0]\n",
    "    return (1/np.sqrt(np.var(x,axis=0)+eps))*(x-np.mean(x, axis=0))/n\n",
    "\n",
    "def fvarf_sqrt_inv(x,eps):\n",
    "    return np.sum(x,axis=0)\n",
    "    return 1/np.sqrt(np.var(x,axis=0))\n",
    "\n",
    "def dfvarf_sqrt_inv(x,eps):\n",
    "    return np.ones_like(x)\n",
    "    return (-1./(np.var(x,axis=0)))*dfvarf_sqrt(x,eps)\n",
    "\n",
    "def gax(x,eps):\n",
    "    #print (\"X: \\n\",x)\n",
    "    #print(\"fvarf_sqrt_inv: \\n\",fvarf_sqrt_inv(x,eps))\n",
    "    #print (\"X*fvarf_sqrt_inv: \\n\",x*fvarf_sqrt_inv(x,eps))\n",
    "    return x*fvarf_sqrt_inv(x,eps)\n",
    "\n",
    "def dgax(x,eps):\n",
    "    return np.ones_like(x)*fvarf_sqrt_inv(x,eps)+(dfvarf_sqrt_inv(x,eps)*x)\n",
    "\n",
    "def dnum(f,x):\n",
    "    return eval_numerical_gradient_array(f,x,1,h=1e-6)\n",
    "\n",
    "eps = 0#1e-5\n",
    "\n",
    "a = np.array([[441, 2,3,234], [15, 4,5,45],[2,3,4,12]],dtype=float)\n",
    "\n",
    "print(a*(1/(a*a)),\"\\n\",1/a)\n",
    "#a = np.array([[12,3],[1,2]],dtype=float)\n",
    "\n",
    "f = lambda inp: fvarf_sqrt_inv(inp,eps)\n",
    "print(\"numerical\\n\",dnum(f,a))\n",
    "print(\"analytical\\n\",dfvarf_sqrt_inv(a,eps))\n",
    "print(\"*\"*60)\n",
    "\n",
    "f = lambda inp: gax(inp,eps)\n",
    "print(\"numerical\\n\",dnum(f,a))\n",
    "print(\"analytical\\n\",dgax(a,eps))\n",
    "\n",
    "\n",
    "def "
   ]
  },
  {
   "cell_type": "code",
   "execution_count": null,
   "metadata": {},
   "outputs": [],
   "source": [
    "import numpy as np\n",
    "from cs682.gradient_check import eval_numerical_gradient_array\n",
    "\n",
    "def dnum(f,x):\n",
    "    return eval_numerical_gradient_array(f,x,1,h=1e-6)\n",
    "\n",
    "def asum(x):\n",
    "    return np.sum(x,axis=0)*np.ones_like(x)\n",
    "\n",
    "def dasum(x):\n",
    "    return 1\n",
    "\n",
    "def x_asum(x):\n",
    "    return x*(asum(x))\n",
    "\n",
    "def dx_asum(x):\n",
    "    return asum(x)+x*dasum(x)\n",
    "\n",
    "\n",
    "f = lambda inp: x_asum(inp)\n",
    "print(\"numerical\\n\",dnum(f,a))\n",
    "print(\"analytical\\n\",dx_asum(a))\n",
    "print(\"*\"*60)\n"
   ]
  },
  {
   "cell_type": "code",
   "execution_count": null,
   "metadata": {},
   "outputs": [],
   "source": []
  },
  {
   "cell_type": "code",
   "execution_count": null,
   "metadata": {},
   "outputs": [],
   "source": []
  },
  {
   "cell_type": "code",
   "execution_count": null,
   "metadata": {},
   "outputs": [],
   "source": []
  }
 ],
 "metadata": {
  "kernelspec": {
   "display_name": "Python 3",
   "language": "python",
   "name": "python3"
  },
  "language_info": {
   "codemirror_mode": {
    "name": "ipython",
    "version": 3
   },
   "file_extension": ".py",
   "mimetype": "text/x-python",
   "name": "python",
   "nbconvert_exporter": "python",
   "pygments_lexer": "ipython3",
   "version": "3.6.9"
  }
 },
 "nbformat": 4,
 "nbformat_minor": 2
}
